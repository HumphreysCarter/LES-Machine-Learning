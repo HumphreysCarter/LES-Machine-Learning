{
 "cells": [
  {
   "cell_type": "markdown",
   "metadata": {},
   "source": [
    "# LES Band Orientation Model Training\n",
    "---\n",
    "Central Lake Ontario Buoy Environmental Database\n",
    "\n",
    "### Carter J. Humphreys\n",
    "Email: [chumphre@oswego.edu](mailto:chumphre@oswego.edu) | GitHub:[@HumphreysCarter](https://github.com/HumphreysCarter) | Website: [carterhumphreys.com](http://carterhumphreys.com/)"
   ]
  },
  {
   "cell_type": "code",
   "execution_count": 3,
   "metadata": {
    "collapsed": false,
    "jupyter": {
     "outputs_hidden": false
    }
   },
   "outputs": [],
   "source": [
    "import pickle\n",
    "import joblib \n",
    "import pandas as pd\n",
    "from pandas.plotting import scatter_matrix\n",
    "from matplotlib import pyplot\n",
    "from sklearn.model_selection import train_test_split, cross_val_score, KFold\n",
    "from sklearn.metrics import max_error, mean_absolute_error, mean_squared_error, r2_score \n",
    "\n",
    "# Models\n",
    "from sklearn.linear_model import LinearRegression\n",
    "from sklearn.tree import DecisionTreeRegressor\n",
    "from sklearn.ensemble import RandomForestRegressor\n",
    "from sklearn.neighbors import KNeighborsRegressor\n",
    "from sklearn.neural_network import MLPRegressor"
   ]
  },
  {
   "cell_type": "markdown",
   "metadata": {},
   "source": [
    "## Load The Data"
   ]
  },
  {
   "cell_type": "code",
   "execution_count": 4,
   "metadata": {
    "collapsed": false,
    "jupyter": {
     "outputs_hidden": false
    }
   },
   "outputs": [],
   "source": [
    "# Load dataset\n",
    "dataPath=\"../data/LO1_dataset.csv\"\n",
    "dataset=pd.read_csv(dataPath)\n",
    "\n",
    "# Drop unused data\n",
    "dataset=dataset.drop(['DateTime [UTC]', 'BandAz_LO1 [deg]', 'BandIntensity [dBZ]', 'BandRng_LO1 [km]'], axis=1)"
   ]
  },
  {
   "cell_type": "markdown",
   "metadata": {},
   "source": [
    "## Dataset Summary"
   ]
  },
  {
   "cell_type": "code",
   "execution_count": 5,
   "metadata": {
    "collapsed": false,
    "jupyter": {
     "outputs_hidden": false
    }
   },
   "outputs": [
    {
     "data": {
      "text/plain": [
       "(1145, 36)"
      ]
     },
     "execution_count": 5,
     "metadata": {},
     "output_type": "execute_result"
    }
   ],
   "source": [
    "# shape\n",
    "dataset.shape"
   ]
  },
  {
   "cell_type": "code",
   "execution_count": 6,
   "metadata": {
    "collapsed": false,
    "jupyter": {
     "outputs_hidden": false
    }
   },
   "outputs": [
    {
     "data": {
      "text/html": [
       "<div>\n",
       "<style scoped>\n",
       "    .dataframe tbody tr th:only-of-type {\n",
       "        vertical-align: middle;\n",
       "    }\n",
       "\n",
       "    .dataframe tbody tr th {\n",
       "        vertical-align: top;\n",
       "    }\n",
       "\n",
       "    .dataframe thead th {\n",
       "        text-align: right;\n",
       "    }\n",
       "</style>\n",
       "<table border=\"1\" class=\"dataframe\">\n",
       "  <thead>\n",
       "    <tr style=\"text-align: right;\">\n",
       "      <th></th>\n",
       "      <th>BandStart_Latitude</th>\n",
       "      <th>BandStart_Longitude</th>\n",
       "      <th>BandMidpoint_Latitude</th>\n",
       "      <th>BandMidpoint_Longitude</th>\n",
       "      <th>BandEnd_Latitude</th>\n",
       "      <th>BandEnd_Longitude</th>\n",
       "      <th>WaterTemp_Ontario [degC]</th>\n",
       "      <th>IceCover_Ontario [%]</th>\n",
       "      <th>IceCover_Huron [%]</th>\n",
       "      <th>IceCover_Erie [%]</th>\n",
       "      <th>...</th>\n",
       "      <th>RH_700mb [%]</th>\n",
       "      <th>u_700mb [kt]</th>\n",
       "      <th>v_700mb [kt]</th>\n",
       "      <th>bulkshear_925-700hPa [kt]</th>\n",
       "      <th>z_500mb [m]</th>\n",
       "      <th>T_500mb [degC]</th>\n",
       "      <th>RH_500mb [%]</th>\n",
       "      <th>u_500mb [kt]</th>\n",
       "      <th>v_500mb [kt]</th>\n",
       "      <th>bulkshear_925-500hPa [kt]</th>\n",
       "    </tr>\n",
       "  </thead>\n",
       "  <tbody>\n",
       "    <tr>\n",
       "      <th>0</th>\n",
       "      <td>43.535946</td>\n",
       "      <td>-76.223320</td>\n",
       "      <td>43.353896</td>\n",
       "      <td>-75.329963</td>\n",
       "      <td>43.234745</td>\n",
       "      <td>-74.595901</td>\n",
       "      <td>13.26</td>\n",
       "      <td>0.0</td>\n",
       "      <td>0.0</td>\n",
       "      <td>0.0</td>\n",
       "      <td>...</td>\n",
       "      <td>43.55</td>\n",
       "      <td>23.59</td>\n",
       "      <td>-9.42</td>\n",
       "      <td>22.64</td>\n",
       "      <td>5437.26</td>\n",
       "      <td>-30.38</td>\n",
       "      <td>27.49</td>\n",
       "      <td>37.65</td>\n",
       "      <td>-12.40</td>\n",
       "      <td>26.86</td>\n",
       "    </tr>\n",
       "    <tr>\n",
       "      <th>1</th>\n",
       "      <td>43.532036</td>\n",
       "      <td>-76.217194</td>\n",
       "      <td>43.334646</td>\n",
       "      <td>-75.373511</td>\n",
       "      <td>43.143089</td>\n",
       "      <td>-74.490379</td>\n",
       "      <td>13.26</td>\n",
       "      <td>0.0</td>\n",
       "      <td>0.0</td>\n",
       "      <td>0.0</td>\n",
       "      <td>...</td>\n",
       "      <td>33.73</td>\n",
       "      <td>22.43</td>\n",
       "      <td>-11.62</td>\n",
       "      <td>26.97</td>\n",
       "      <td>5438.25</td>\n",
       "      <td>-29.61</td>\n",
       "      <td>25.61</td>\n",
       "      <td>36.14</td>\n",
       "      <td>-13.87</td>\n",
       "      <td>30.15</td>\n",
       "    </tr>\n",
       "    <tr>\n",
       "      <th>2</th>\n",
       "      <td>43.521149</td>\n",
       "      <td>-76.232010</td>\n",
       "      <td>43.346326</td>\n",
       "      <td>-75.618544</td>\n",
       "      <td>43.195889</td>\n",
       "      <td>-74.990135</td>\n",
       "      <td>13.26</td>\n",
       "      <td>0.0</td>\n",
       "      <td>0.0</td>\n",
       "      <td>0.0</td>\n",
       "      <td>...</td>\n",
       "      <td>37.17</td>\n",
       "      <td>22.20</td>\n",
       "      <td>-12.70</td>\n",
       "      <td>28.10</td>\n",
       "      <td>5432.29</td>\n",
       "      <td>-30.14</td>\n",
       "      <td>19.75</td>\n",
       "      <td>34.44</td>\n",
       "      <td>-13.16</td>\n",
       "      <td>28.75</td>\n",
       "    </tr>\n",
       "    <tr>\n",
       "      <th>3</th>\n",
       "      <td>43.518513</td>\n",
       "      <td>-76.217072</td>\n",
       "      <td>43.339364</td>\n",
       "      <td>-75.832468</td>\n",
       "      <td>43.176296</td>\n",
       "      <td>-75.413177</td>\n",
       "      <td>13.26</td>\n",
       "      <td>0.0</td>\n",
       "      <td>0.0</td>\n",
       "      <td>0.0</td>\n",
       "      <td>...</td>\n",
       "      <td>55.30</td>\n",
       "      <td>23.37</td>\n",
       "      <td>-11.55</td>\n",
       "      <td>27.01</td>\n",
       "      <td>5436.76</td>\n",
       "      <td>-30.23</td>\n",
       "      <td>16.43</td>\n",
       "      <td>35.66</td>\n",
       "      <td>-11.93</td>\n",
       "      <td>27.55</td>\n",
       "    </tr>\n",
       "    <tr>\n",
       "      <th>4</th>\n",
       "      <td>43.565903</td>\n",
       "      <td>-76.202736</td>\n",
       "      <td>43.259891</td>\n",
       "      <td>-75.604233</td>\n",
       "      <td>42.989628</td>\n",
       "      <td>-75.002983</td>\n",
       "      <td>13.26</td>\n",
       "      <td>0.0</td>\n",
       "      <td>0.0</td>\n",
       "      <td>0.0</td>\n",
       "      <td>...</td>\n",
       "      <td>64.36</td>\n",
       "      <td>23.26</td>\n",
       "      <td>-12.20</td>\n",
       "      <td>26.52</td>\n",
       "      <td>5440.28</td>\n",
       "      <td>-29.95</td>\n",
       "      <td>15.63</td>\n",
       "      <td>35.60</td>\n",
       "      <td>-10.08</td>\n",
       "      <td>23.52</td>\n",
       "    </tr>\n",
       "  </tbody>\n",
       "</table>\n",
       "<p>5 rows × 36 columns</p>\n",
       "</div>"
      ],
      "text/plain": [
       "   BandStart_Latitude  BandStart_Longitude  BandMidpoint_Latitude  \\\n",
       "0           43.535946           -76.223320              43.353896   \n",
       "1           43.532036           -76.217194              43.334646   \n",
       "2           43.521149           -76.232010              43.346326   \n",
       "3           43.518513           -76.217072              43.339364   \n",
       "4           43.565903           -76.202736              43.259891   \n",
       "\n",
       "   BandMidpoint_Longitude  BandEnd_Latitude  BandEnd_Longitude  \\\n",
       "0              -75.329963         43.234745         -74.595901   \n",
       "1              -75.373511         43.143089         -74.490379   \n",
       "2              -75.618544         43.195889         -74.990135   \n",
       "3              -75.832468         43.176296         -75.413177   \n",
       "4              -75.604233         42.989628         -75.002983   \n",
       "\n",
       "   WaterTemp_Ontario [degC]  IceCover_Ontario [%]  IceCover_Huron [%]  \\\n",
       "0                     13.26                   0.0                 0.0   \n",
       "1                     13.26                   0.0                 0.0   \n",
       "2                     13.26                   0.0                 0.0   \n",
       "3                     13.26                   0.0                 0.0   \n",
       "4                     13.26                   0.0                 0.0   \n",
       "\n",
       "   IceCover_Erie [%]  ...  RH_700mb [%]  u_700mb [kt]  v_700mb [kt]  \\\n",
       "0                0.0  ...         43.55         23.59         -9.42   \n",
       "1                0.0  ...         33.73         22.43        -11.62   \n",
       "2                0.0  ...         37.17         22.20        -12.70   \n",
       "3                0.0  ...         55.30         23.37        -11.55   \n",
       "4                0.0  ...         64.36         23.26        -12.20   \n",
       "\n",
       "   bulkshear_925-700hPa [kt]  z_500mb [m]  T_500mb [degC]  RH_500mb [%]  \\\n",
       "0                      22.64      5437.26          -30.38         27.49   \n",
       "1                      26.97      5438.25          -29.61         25.61   \n",
       "2                      28.10      5432.29          -30.14         19.75   \n",
       "3                      27.01      5436.76          -30.23         16.43   \n",
       "4                      26.52      5440.28          -29.95         15.63   \n",
       "\n",
       "   u_500mb [kt]  v_500mb [kt]  bulkshear_925-500hPa [kt]  \n",
       "0         37.65        -12.40                      26.86  \n",
       "1         36.14        -13.87                      30.15  \n",
       "2         34.44        -13.16                      28.75  \n",
       "3         35.66        -11.93                      27.55  \n",
       "4         35.60        -10.08                      23.52  \n",
       "\n",
       "[5 rows x 36 columns]"
      ]
     },
     "execution_count": 6,
     "metadata": {},
     "output_type": "execute_result"
    }
   ],
   "source": [
    "# head\n",
    "dataset.head()"
   ]
  },
  {
   "cell_type": "code",
   "execution_count": 7,
   "metadata": {
    "collapsed": false,
    "jupyter": {
     "outputs_hidden": false
    }
   },
   "outputs": [
    {
     "data": {
      "text/html": [
       "<div>\n",
       "<style scoped>\n",
       "    .dataframe tbody tr th:only-of-type {\n",
       "        vertical-align: middle;\n",
       "    }\n",
       "\n",
       "    .dataframe tbody tr th {\n",
       "        vertical-align: top;\n",
       "    }\n",
       "\n",
       "    .dataframe thead th {\n",
       "        text-align: right;\n",
       "    }\n",
       "</style>\n",
       "<table border=\"1\" class=\"dataframe\">\n",
       "  <thead>\n",
       "    <tr style=\"text-align: right;\">\n",
       "      <th></th>\n",
       "      <th>BandStart_Latitude</th>\n",
       "      <th>BandStart_Longitude</th>\n",
       "      <th>BandMidpoint_Latitude</th>\n",
       "      <th>BandMidpoint_Longitude</th>\n",
       "      <th>BandEnd_Latitude</th>\n",
       "      <th>BandEnd_Longitude</th>\n",
       "      <th>WaterTemp_Ontario [degC]</th>\n",
       "      <th>IceCover_Ontario [%]</th>\n",
       "      <th>IceCover_Huron [%]</th>\n",
       "      <th>IceCover_Erie [%]</th>\n",
       "      <th>...</th>\n",
       "      <th>RH_700mb [%]</th>\n",
       "      <th>u_700mb [kt]</th>\n",
       "      <th>v_700mb [kt]</th>\n",
       "      <th>bulkshear_925-700hPa [kt]</th>\n",
       "      <th>z_500mb [m]</th>\n",
       "      <th>T_500mb [degC]</th>\n",
       "      <th>RH_500mb [%]</th>\n",
       "      <th>u_500mb [kt]</th>\n",
       "      <th>v_500mb [kt]</th>\n",
       "      <th>bulkshear_925-500hPa [kt]</th>\n",
       "    </tr>\n",
       "  </thead>\n",
       "  <tbody>\n",
       "    <tr>\n",
       "      <th>count</th>\n",
       "      <td>1145.000000</td>\n",
       "      <td>1145.000000</td>\n",
       "      <td>1145.000000</td>\n",
       "      <td>1145.000000</td>\n",
       "      <td>1145.000000</td>\n",
       "      <td>1145.000000</td>\n",
       "      <td>1145.000000</td>\n",
       "      <td>1145.000000</td>\n",
       "      <td>1145.000000</td>\n",
       "      <td>1145.000000</td>\n",
       "      <td>...</td>\n",
       "      <td>1145.000000</td>\n",
       "      <td>1145.000000</td>\n",
       "      <td>1145.000000</td>\n",
       "      <td>1145.000000</td>\n",
       "      <td>1145.000000</td>\n",
       "      <td>1145.000000</td>\n",
       "      <td>1145.000000</td>\n",
       "      <td>1145.000000</td>\n",
       "      <td>1145.000000</td>\n",
       "      <td>1145.000000</td>\n",
       "    </tr>\n",
       "    <tr>\n",
       "      <th>mean</th>\n",
       "      <td>43.630653</td>\n",
       "      <td>-76.381776</td>\n",
       "      <td>43.633758</td>\n",
       "      <td>-75.787178</td>\n",
       "      <td>43.639705</td>\n",
       "      <td>-75.142739</td>\n",
       "      <td>4.608821</td>\n",
       "      <td>4.733284</td>\n",
       "      <td>19.422943</td>\n",
       "      <td>23.082725</td>\n",
       "      <td>...</td>\n",
       "      <td>56.317799</td>\n",
       "      <td>32.223721</td>\n",
       "      <td>6.645485</td>\n",
       "      <td>25.328533</td>\n",
       "      <td>5260.147886</td>\n",
       "      <td>-33.079852</td>\n",
       "      <td>34.751860</td>\n",
       "      <td>46.911380</td>\n",
       "      <td>13.336288</td>\n",
       "      <td>33.283066</td>\n",
       "    </tr>\n",
       "    <tr>\n",
       "      <th>std</th>\n",
       "      <td>0.233597</td>\n",
       "      <td>0.279259</td>\n",
       "      <td>0.348498</td>\n",
       "      <td>0.408128</td>\n",
       "      <td>0.519221</td>\n",
       "      <td>0.670774</td>\n",
       "      <td>2.408046</td>\n",
       "      <td>6.983989</td>\n",
       "      <td>23.370011</td>\n",
       "      <td>32.730655</td>\n",
       "      <td>...</td>\n",
       "      <td>23.846803</td>\n",
       "      <td>10.059089</td>\n",
       "      <td>14.390203</td>\n",
       "      <td>18.191756</td>\n",
       "      <td>101.036994</td>\n",
       "      <td>5.168124</td>\n",
       "      <td>21.012772</td>\n",
       "      <td>20.137452</td>\n",
       "      <td>25.971267</td>\n",
       "      <td>23.508466</td>\n",
       "    </tr>\n",
       "    <tr>\n",
       "      <th>min</th>\n",
       "      <td>43.243790</td>\n",
       "      <td>-77.509819</td>\n",
       "      <td>42.907711</td>\n",
       "      <td>-77.060097</td>\n",
       "      <td>42.608696</td>\n",
       "      <td>-76.938240</td>\n",
       "      <td>1.350000</td>\n",
       "      <td>0.000000</td>\n",
       "      <td>0.000000</td>\n",
       "      <td>0.000000</td>\n",
       "      <td>...</td>\n",
       "      <td>0.970000</td>\n",
       "      <td>7.930000</td>\n",
       "      <td>-33.690000</td>\n",
       "      <td>0.010000</td>\n",
       "      <td>5006.450000</td>\n",
       "      <td>-45.880000</td>\n",
       "      <td>2.260000</td>\n",
       "      <td>-11.000000</td>\n",
       "      <td>-68.130000</td>\n",
       "      <td>0.040000</td>\n",
       "    </tr>\n",
       "    <tr>\n",
       "      <th>25%</th>\n",
       "      <td>43.446945</td>\n",
       "      <td>-76.559319</td>\n",
       "      <td>43.339364</td>\n",
       "      <td>-76.035680</td>\n",
       "      <td>43.210049</td>\n",
       "      <td>-75.653412</td>\n",
       "      <td>2.820000</td>\n",
       "      <td>0.070000</td>\n",
       "      <td>0.350000</td>\n",
       "      <td>0.000000</td>\n",
       "      <td>...</td>\n",
       "      <td>36.800000</td>\n",
       "      <td>25.100000</td>\n",
       "      <td>-3.340000</td>\n",
       "      <td>9.670000</td>\n",
       "      <td>5186.260000</td>\n",
       "      <td>-36.770000</td>\n",
       "      <td>16.630000</td>\n",
       "      <td>33.390000</td>\n",
       "      <td>-4.500000</td>\n",
       "      <td>15.150000</td>\n",
       "    </tr>\n",
       "    <tr>\n",
       "      <th>50%</th>\n",
       "      <td>43.617672</td>\n",
       "      <td>-76.225258</td>\n",
       "      <td>43.619020</td>\n",
       "      <td>-75.743159</td>\n",
       "      <td>43.589722</td>\n",
       "      <td>-75.121086</td>\n",
       "      <td>3.970000</td>\n",
       "      <td>0.930000</td>\n",
       "      <td>10.440000</td>\n",
       "      <td>2.950000</td>\n",
       "      <td>...</td>\n",
       "      <td>62.770000</td>\n",
       "      <td>31.220000</td>\n",
       "      <td>7.020000</td>\n",
       "      <td>22.360000</td>\n",
       "      <td>5263.640000</td>\n",
       "      <td>-33.150000</td>\n",
       "      <td>30.990000</td>\n",
       "      <td>45.340000</td>\n",
       "      <td>13.650000</td>\n",
       "      <td>29.920000</td>\n",
       "    </tr>\n",
       "    <tr>\n",
       "      <th>75%</th>\n",
       "      <td>43.780396</td>\n",
       "      <td>-76.199753</td>\n",
       "      <td>43.901171</td>\n",
       "      <td>-75.471099</td>\n",
       "      <td>44.032555</td>\n",
       "      <td>-74.616837</td>\n",
       "      <td>6.140000</td>\n",
       "      <td>8.160000</td>\n",
       "      <td>33.500000</td>\n",
       "      <td>46.790000</td>\n",
       "      <td>...</td>\n",
       "      <td>76.850000</td>\n",
       "      <td>38.390000</td>\n",
       "      <td>17.640000</td>\n",
       "      <td>38.040000</td>\n",
       "      <td>5321.090000</td>\n",
       "      <td>-28.890000</td>\n",
       "      <td>52.050000</td>\n",
       "      <td>60.680000</td>\n",
       "      <td>31.990000</td>\n",
       "      <td>47.450000</td>\n",
       "    </tr>\n",
       "    <tr>\n",
       "      <th>max</th>\n",
       "      <td>44.314522</td>\n",
       "      <td>-76.050560</td>\n",
       "      <td>44.518521</td>\n",
       "      <td>-74.867294</td>\n",
       "      <td>44.987915</td>\n",
       "      <td>-73.680901</td>\n",
       "      <td>13.260000</td>\n",
       "      <td>24.930000</td>\n",
       "      <td>88.300000</td>\n",
       "      <td>95.120000</td>\n",
       "      <td>...</td>\n",
       "      <td>99.130000</td>\n",
       "      <td>65.960000</td>\n",
       "      <td>45.270000</td>\n",
       "      <td>85.010000</td>\n",
       "      <td>5560.780000</td>\n",
       "      <td>-21.190000</td>\n",
       "      <td>98.090000</td>\n",
       "      <td>105.660000</td>\n",
       "      <td>83.550000</td>\n",
       "      <td>132.820000</td>\n",
       "    </tr>\n",
       "  </tbody>\n",
       "</table>\n",
       "<p>8 rows × 36 columns</p>\n",
       "</div>"
      ],
      "text/plain": [
       "       BandStart_Latitude  BandStart_Longitude  BandMidpoint_Latitude  \\\n",
       "count         1145.000000          1145.000000            1145.000000   \n",
       "mean            43.630653           -76.381776              43.633758   \n",
       "std              0.233597             0.279259               0.348498   \n",
       "min             43.243790           -77.509819              42.907711   \n",
       "25%             43.446945           -76.559319              43.339364   \n",
       "50%             43.617672           -76.225258              43.619020   \n",
       "75%             43.780396           -76.199753              43.901171   \n",
       "max             44.314522           -76.050560              44.518521   \n",
       "\n",
       "       BandMidpoint_Longitude  BandEnd_Latitude  BandEnd_Longitude  \\\n",
       "count             1145.000000       1145.000000        1145.000000   \n",
       "mean               -75.787178         43.639705         -75.142739   \n",
       "std                  0.408128          0.519221           0.670774   \n",
       "min                -77.060097         42.608696         -76.938240   \n",
       "25%                -76.035680         43.210049         -75.653412   \n",
       "50%                -75.743159         43.589722         -75.121086   \n",
       "75%                -75.471099         44.032555         -74.616837   \n",
       "max                -74.867294         44.987915         -73.680901   \n",
       "\n",
       "       WaterTemp_Ontario [degC]  IceCover_Ontario [%]  IceCover_Huron [%]  \\\n",
       "count               1145.000000           1145.000000         1145.000000   \n",
       "mean                   4.608821              4.733284           19.422943   \n",
       "std                    2.408046              6.983989           23.370011   \n",
       "min                    1.350000              0.000000            0.000000   \n",
       "25%                    2.820000              0.070000            0.350000   \n",
       "50%                    3.970000              0.930000           10.440000   \n",
       "75%                    6.140000              8.160000           33.500000   \n",
       "max                   13.260000             24.930000           88.300000   \n",
       "\n",
       "       IceCover_Erie [%]  ...  RH_700mb [%]  u_700mb [kt]  v_700mb [kt]  \\\n",
       "count        1145.000000  ...   1145.000000   1145.000000   1145.000000   \n",
       "mean           23.082725  ...     56.317799     32.223721      6.645485   \n",
       "std            32.730655  ...     23.846803     10.059089     14.390203   \n",
       "min             0.000000  ...      0.970000      7.930000    -33.690000   \n",
       "25%             0.000000  ...     36.800000     25.100000     -3.340000   \n",
       "50%             2.950000  ...     62.770000     31.220000      7.020000   \n",
       "75%            46.790000  ...     76.850000     38.390000     17.640000   \n",
       "max            95.120000  ...     99.130000     65.960000     45.270000   \n",
       "\n",
       "       bulkshear_925-700hPa [kt]  z_500mb [m]  T_500mb [degC]  RH_500mb [%]  \\\n",
       "count                1145.000000  1145.000000     1145.000000   1145.000000   \n",
       "mean                   25.328533  5260.147886      -33.079852     34.751860   \n",
       "std                    18.191756   101.036994        5.168124     21.012772   \n",
       "min                     0.010000  5006.450000      -45.880000      2.260000   \n",
       "25%                     9.670000  5186.260000      -36.770000     16.630000   \n",
       "50%                    22.360000  5263.640000      -33.150000     30.990000   \n",
       "75%                    38.040000  5321.090000      -28.890000     52.050000   \n",
       "max                    85.010000  5560.780000      -21.190000     98.090000   \n",
       "\n",
       "       u_500mb [kt]  v_500mb [kt]  bulkshear_925-500hPa [kt]  \n",
       "count   1145.000000   1145.000000                1145.000000  \n",
       "mean      46.911380     13.336288                  33.283066  \n",
       "std       20.137452     25.971267                  23.508466  \n",
       "min      -11.000000    -68.130000                   0.040000  \n",
       "25%       33.390000     -4.500000                  15.150000  \n",
       "50%       45.340000     13.650000                  29.920000  \n",
       "75%       60.680000     31.990000                  47.450000  \n",
       "max      105.660000     83.550000                 132.820000  \n",
       "\n",
       "[8 rows x 36 columns]"
      ]
     },
     "execution_count": 7,
     "metadata": {},
     "output_type": "execute_result"
    }
   ],
   "source": [
    "# descriptions\n",
    "dataset.describe()"
   ]
  },
  {
   "cell_type": "code",
   "execution_count": 8,
   "metadata": {
    "collapsed": false,
    "jupyter": {
     "outputs_hidden": false
    }
   },
   "outputs": [
    {
     "data": {
      "text/plain": [
       "BandStart_Latitude  BandStart_Longitude\n",
       "43.243790           -77.509819             1\n",
       "43.248756           -77.003174             1\n",
       "43.253349           -77.061295             1\n",
       "43.254963           -77.477936             1\n",
       "43.257233           -77.469215             1\n",
       "                                          ..\n",
       "44.259010           -76.164742             1\n",
       "44.267601           -76.164268             1\n",
       "44.309586           -76.296242             1\n",
       "44.310493           -76.092506             1\n",
       "44.314522           -76.264351             1\n",
       "Length: 1102, dtype: int64"
      ]
     },
     "execution_count": 8,
     "metadata": {},
     "output_type": "execute_result"
    }
   ],
   "source": [
    "# class distribution\n",
    "dataset.groupby(['BandStart_Latitude', 'BandStart_Longitude']).size()"
   ]
  },
  {
   "cell_type": "markdown",
   "metadata": {},
   "source": [
    "## Data Visualization"
   ]
  },
  {
   "cell_type": "code",
   "execution_count": 9,
   "metadata": {
    "collapsed": false,
    "jupyter": {
     "outputs_hidden": false
    }
   },
   "outputs": [],
   "source": [
    "# box and whisker plots\n",
    "#dataset.plot(figsize=(20, 20), kind='box', subplots=True, layout=(6,6), sharex=False, sharey=False)\n",
    "#pyplot.show()"
   ]
  },
  {
   "cell_type": "code",
   "execution_count": 10,
   "metadata": {
    "collapsed": false,
    "jupyter": {
     "outputs_hidden": false
    }
   },
   "outputs": [],
   "source": [
    "# histograms\n",
    "#dataset.hist(figsize=(20,20), layout=(6,6))\n",
    "#pyplot.show()"
   ]
  },
  {
   "cell_type": "code",
   "execution_count": 11,
   "metadata": {
    "collapsed": false,
    "jupyter": {
     "outputs_hidden": false
    }
   },
   "outputs": [],
   "source": [
    "# scatter plot matrix\n",
    "#scatter_matrix(dataset, figsize=(20,20))\n",
    "#pyplot.show()"
   ]
  },
  {
   "cell_type": "markdown",
   "metadata": {},
   "source": [
    "## Algorithms"
   ]
  },
  {
   "cell_type": "code",
   "execution_count": 12,
   "metadata": {
    "collapsed": false,
    "jupyter": {
     "outputs_hidden": false
    }
   },
   "outputs": [
    {
     "name": "stdout",
     "output_type": "stream",
     "text": [
      "[[ 43.535946   -76.22332     43.35389555 -75.329963    43.234745\n",
      "  -74.595901  ]\n",
      " [ 43.532036   -76.217194    43.33464587 -75.37351127  43.143089\n",
      "  -74.490379  ]\n",
      " [ 43.521149   -76.23201     43.34632558 -75.61854384  43.195889\n",
      "  -74.990135  ]\n",
      " ...\n",
      " [ 43.553471   -76.185211    43.228888   -75.63504386  42.98103\n",
      "  -75.192307  ]\n",
      " [ 43.320927   -76.710991    43.121541   -76.32067063  42.869659\n",
      "  -75.870171  ]\n",
      " [ 43.384274   -76.656464    43.12864013 -76.4084122   42.85833\n",
      "  -75.925262  ]]\n",
      "[[ 13.26   0.     0.   ...  37.65 -12.4   26.86]\n",
      " [ 13.26   0.     0.   ...  36.14 -13.87  30.15]\n",
      " [ 13.26   0.     0.   ...  34.44 -13.16  28.75]\n",
      " ...\n",
      " [  2.23   4.63  19.43 ...  30.79   9.28  22.16]\n",
      " [  2.23   4.63  19.43 ...  32.32   5.9   25.14]\n",
      " [  2.23   4.63  19.43 ...  33.84   1.33  32.51]]\n"
     ]
    }
   ],
   "source": [
    "# Split-out validation dataset\n",
    "array = dataset.values\n",
    "X = array[:,6:36]\n",
    "y = array[:,0:6]\n",
    "X_train, X_validation, Y_train, Y_validation = train_test_split(X, y, test_size=0.30, random_state=1)\n",
    "print(y)\n",
    "print(X)"
   ]
  },
  {
   "cell_type": "code",
   "execution_count": 16,
   "metadata": {
    "collapsed": false,
    "jupyter": {
     "outputs_hidden": false
    }
   },
   "outputs": [
    {
     "name": "stdout",
     "output_type": "stream",
     "text": [
      "MultiLR: 0.425853 (0.025016)\n",
      "KNN(n=2): 0.730083 (0.026079)\n",
      "KNN(n=5): 0.646512 (0.042740)\n",
      "RandomForest: 0.672910 (0.029465)\n"
     ]
    }
   ],
   "source": [
    "# Spot Check Algorithms\n",
    "models = []\n",
    "models.append(('MultiLR', LinearRegression()))\n",
    "models.append(('KNN(n=2)', KNeighborsRegressor(n_neighbors=2)))\n",
    "models.append(('KNN(n=5)', KNeighborsRegressor(n_neighbors=5)))\n",
    "#models.append(('DecisionTree', DecisionTreeRegressor()))\n",
    "models.append(('RandomForest', RandomForestRegressor()))\n",
    "#models.append(('MLPR', MLPRegressor()))\n",
    "\n",
    "# evaluate each model in turn\n",
    "results = []\n",
    "names = []\n",
    "for name, model in models:\n",
    "    kfold = KFold(n_splits=5, random_state=1, shuffle=True)\n",
    "    cv_results = cross_val_score(model, X_train, Y_train, cv=kfold)\n",
    "    if name != 'MultiLR': # Hide MultiLR since data is skewed \n",
    "        results.append(cv_results)\n",
    "        names.append(name)\n",
    "    print('%s: %f (%f)' % (name, cv_results.mean(), cv_results.std()))"
   ]
  },
  {
   "cell_type": "code",
   "execution_count": 17,
   "metadata": {
    "collapsed": false,
    "jupyter": {
     "outputs_hidden": false
    }
   },
   "outputs": [
    {
     "data": {
      "image/png": "[encoded data removed]",
      "text/plain": [
       "<Figure size 432x288 with 1 Axes>"
      ]
     },
     "metadata": {
      "needs_background": "light"
     },
     "output_type": "display_data"
    }
   ],
   "source": [
    "# Compare Algorithms\n",
    "pyplot.boxplot(results, labels=names, showfliers=False)\n",
    "pyplot.title('Algorithm Comparison (Excluding MultiLR)')\n",
    "pyplot.show()"
   ]
  },
  {
   "cell_type": "markdown",
   "metadata": {},
   "source": [
    "## Predictions and Validation"
   ]
  },
  {
   "cell_type": "code",
   "execution_count": 20,
   "metadata": {
    "collapsed": false,
    "jupyter": {
     "outputs_hidden": false
    }
   },
   "outputs": [
    {
     "name": "stdout",
     "output_type": "stream",
     "text": [
      "==================== MultiLR ====================\n"
     ]
    },
    {
     "data": {
      "image/png": "[encoded data removed]",
      "text/plain": [
       "<Figure size 432x288 with 1 Axes>"
      ]
     },
     "metadata": {
      "needs_background": "light"
     },
     "output_type": "display_data"
    },
    {
     "name": "stdout",
     "output_type": "stream",
     "text": [
      "Metric\t\t\tCurr Score\t\tPrev Score\n",
      "----------\t\t---------\t\t--------\n",
      "mean_absolute_error\t0.23557716453904506\t0.23557716453904506\n",
      "mean_squared_error\t0.10159826658954162\t0.10159826658954162\n",
      "r2_score\t\t0.49441514623178834\t0.49441514623178834\n",
      "\n",
      "\n",
      "==================== KNN(n=2) ====================\n"
     ]
    },
    {
     "data": {
      "image/png": "[encoded data removed]",
      "text/plain": [
       "<Figure size 432x288 with 1 Axes>"
      ]
     },
     "metadata": {
      "needs_background": "light"
     },
     "output_type": "display_data"
    },
    {
     "name": "stdout",
     "output_type": "stream",
     "text": [
      "Metric\t\t\tCurr Score\t\tPrev Score\n",
      "----------\t\t---------\t\t--------\n",
      "mean_absolute_error\t0.12803433546258147\t0.12803433546258147\n",
      "mean_squared_error\t0.04072753828757389\t0.04072753828757389\n",
      "r2_score\t\t0.7956182263584196\t0.7956182263584196\n",
      "\n",
      "\n",
      "==================== KNN(n=5) ====================\n"
     ]
    },
    {
     "data": {
      "image/png": "[encoded data removed]",
      "text/plain": [
       "<Figure size 432x288 with 1 Axes>"
      ]
     },
     "metadata": {
      "needs_background": "light"
     },
     "output_type": "display_data"
    },
    {
     "name": "stdout",
     "output_type": "stream",
     "text": [
      "Metric\t\t\tCurr Score\t\tPrev Score\n",
      "----------\t\t---------\t\t--------\n",
      "mean_absolute_error\t0.14997936865891015\t0.14997936865891015\n",
      "mean_squared_error\t0.04849059244662963\t0.04849059244662963\n",
      "r2_score\t\t0.7494852425557305\t0.7494852425557305\n",
      "\n",
      "\n",
      "==================== RandomForest ====================\n"
     ]
    },
    {
     "data": {
      "image/png": "[encoded data removed]",
      "text/plain": [
       "<Figure size 432x288 with 1 Axes>"
      ]
     },
     "metadata": {
      "needs_background": "light"
     },
     "output_type": "display_data"
    },
    {
     "name": "stdout",
     "output_type": "stream",
     "text": [
      "Metric\t\t\tCurr Score\t\tPrev Score\n",
      "----------\t\t---------\t\t--------\n",
      "mean_absolute_error\t0.15567401796275404\t0.15643471977452453\n",
      "mean_squared_error\t0.04928230827419643\t0.049522393239111916\n",
      "r2_score\t\t0.7505610172709655\t0.7472510928726881\n",
      "Saving model...\n",
      "\n",
      "\n"
     ]
    }
   ],
   "source": [
    "for name, model in models:\n",
    "    print(f'==================== {name} ====================') \n",
    "    \n",
    "    # Make predictions on validation dataset\n",
    "    model.fit(X_train, Y_train)\n",
    "    predictions = model.predict(X_validation)\n",
    "    \n",
    "    # Evaluate current model\n",
    "    #currMaxError=max_error(Y_validation, predictions)\n",
    "    currAbsError=mean_absolute_error(Y_validation, predictions)\n",
    "    currMeanSqrError=mean_squared_error(Y_validation, predictions)\n",
    "    currR2score=r2_score(Y_validation, predictions)\n",
    "    \n",
    "    # Abs values\n",
    "    x_abs=[]\n",
    "    y_abs=[]\n",
    "    for i in range(len(Y_validation)):\n",
    "        y_abs.append(abs(Y_validation[i]))\n",
    "        x_abs.append(abs(predictions[i]))\n",
    "    \n",
    "    pyplot.plot(x_abs, x_abs, color='black')\n",
    "    pyplot.scatter(x_abs, y_abs, marker='o', color='lightseagreen');\n",
    "    pyplot.title(f'{model}')\n",
    "    pyplot.xlabel(\"validation\")\n",
    "    pyplot.ylabel(\"prediction\")\n",
    "    pyplot.show()   \n",
    "\n",
    "    # Load previous model and make predictions on validation dataset\n",
    "    previousModel=joblib.load(f'../models/LES_Band_Position_Model_{name}_LO1_LatLon')  \n",
    "    previousModel.fit(X_train, Y_train)\n",
    "    prevPredictions=previousModel.predict(X_validation)\n",
    "    \n",
    "    # Evaluate previous model\n",
    "    #prevMaxError=max_error(Y_validation, prevPredictions)\n",
    "    prevAbsError=mean_absolute_error(Y_validation, prevPredictions)\n",
    "    prevMeanSqrError=mean_squared_error(Y_validation, prevPredictions)\n",
    "    prevR2score=r2_score(Y_validation, prevPredictions)\n",
    "    \n",
    "    print('Metric\\t\\t\\tCurr Score\\t\\tPrev Score')\n",
    "    print('----------\\t\\t---------\\t\\t--------')\n",
    "    #print(f'max_error\\t\\t{currMaxError}\\t{prevMaxError}')\n",
    "    print(f'mean_absolute_error\\t{currAbsError}\\t{prevAbsError}')\n",
    "    print(f'mean_squared_error\\t{currMeanSqrError}\\t{prevMeanSqrError}')\n",
    "    print(f'r2_score\\t\\t{currR2score}\\t{prevR2score}')\n",
    "\n",
    "    # Save model if r^2 better\n",
    "    if currR2score > prevR2score:\n",
    "        print('Saving model...')\n",
    "        joblib.dump(model, f'../models/LES_Band_Position_Model_{name}_LO1_LatLon') \n",
    "    print('\\n')"
   ]
  },
  {
   "cell_type": "code",
   "execution_count": null,
   "metadata": {},
   "outputs": [],
   "source": []
  }
 ],
 "metadata": {
  "kernelspec": {
   "display_name": "Python 3",
   "language": "python",
   "name": "python3"
  },
  "language_info": {
   "codemirror_mode": {
    "name": "ipython",
    "version": 3
   },
   "file_extension": ".py",
   "mimetype": "text/x-python",
   "name": "python",
   "nbconvert_exporter": "python",
   "pygments_lexer": "ipython3",
   "version": "3.7.3"
  }
 },
 "nbformat": 4,
 "nbformat_minor": 4
}
