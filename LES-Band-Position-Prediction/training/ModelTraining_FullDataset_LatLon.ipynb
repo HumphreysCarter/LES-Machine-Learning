{
 "cells": [
  {
   "cell_type": "markdown",
   "metadata": {},
   "source": [
    "# LES Band Orientation Model Training\n",
    "---\n",
    "Full Environmental Database Model\n",
    "\n",
    "### Carter J. Humphreys\n",
    "Email: [chumphre@oswego.edu](mailto:chumphre@oswego.edu) | GitHub:[@HumphreysCarter](https://github.com/HumphreysCarter) | Website: [carterhumphreys.com](http://carterhumphreys.com/)"
   ]
  },
  {
   "cell_type": "code",
   "execution_count": 179,
   "metadata": {
    "collapsed": false
   },
   "outputs": [],
   "source": [
    "import pickle\n",
    "import joblib \n",
    "import pandas as pd\n",
    "from pandas.plotting import scatter_matrix\n",
    "from matplotlib import pyplot\n",
    "from sklearn.model_selection import train_test_split, cross_val_score, KFold\n",
    "from sklearn.metrics import max_error, mean_absolute_error, mean_squared_error, r2_score \n",
    "\n",
    "# Models\n",
    "from sklearn.linear_model import LinearRegression\n",
    "from sklearn.tree import DecisionTreeRegressor\n",
    "from sklearn.ensemble import RandomForestRegressor\n",
    "from sklearn.neighbors import KNeighborsRegressor\n",
    "from sklearn.neural_network import MLPRegressor"
   ]
  },
  {
   "cell_type": "markdown",
   "metadata": {},
   "source": [
    "## Load The Data"
   ]
  },
  {
   "cell_type": "code",
   "execution_count": 180,
   "metadata": {
    "collapsed": false
   },
   "outputs": [],
   "source": [
    "# Load dataset\n",
    "dataPath=\"../data/full_dataset.csv\"\n",
    "dataset=pd.read_csv(dataPath, header=None)\n",
    "dataset=dataset.drop([0, 7, 8, 9], axis=1)"
   ]
  },
  {
   "cell_type": "markdown",
   "metadata": {},
   "source": [
    "## Summarize Dataset"
   ]
  },
  {
   "cell_type": "code",
   "execution_count": 181,
   "metadata": {
    "collapsed": false
   },
   "outputs": [
    {
     "name": "stdout",
     "output_type": "stream",
     "text": [
      "(1145, 330)\n"
     ]
    }
   ],
   "source": [
    "# shape\n",
    "print(dataset.shape)"
   ]
  },
  {
   "cell_type": "code",
   "execution_count": 182,
   "metadata": {
    "collapsed": false
   },
   "outputs": [
    {
     "name": "stdout",
     "output_type": "stream",
     "text": [
      "         1          2          3          4          5          6      10   \\\n",
      "0  43.535946 -76.223320  43.353896 -75.329963  43.234745 -74.595901  13.26   \n",
      "1  43.532036 -76.217194  43.334646 -75.373511  43.143089 -74.490379  13.26   \n",
      "2  43.521149 -76.232010  43.346326 -75.618544  43.195889 -74.990135  13.26   \n",
      "3  43.518513 -76.217072  43.339364 -75.832468  43.176296 -75.413177  13.26   \n",
      "4  43.565903 -76.202736  43.259891 -75.604233  42.989628 -75.002983  13.26   \n",
      "\n",
      "   11   12   13   ...      324    325    326    327    328      329    330  \\\n",
      "0  0.0  0.0  0.0  ...  2923.61 -13.54  15.11  26.70  -7.37  5401.54 -29.67   \n",
      "1  0.0  0.0  0.0  ...  2927.03 -14.12  14.21  27.32  -9.45  5399.77 -30.21   \n",
      "2  0.0  0.0  0.0  ...  2927.59 -14.74  23.99  20.99 -11.98  5396.19 -30.40   \n",
      "3  0.0  0.0  0.0  ...  2934.41 -15.24  33.86  17.20 -14.21  5399.68 -30.47   \n",
      "4  0.0  0.0  0.0  ...  2937.42 -15.73  38.57  19.43 -12.18  5401.98 -30.02   \n",
      "\n",
      "     331    332   333  \n",
      "0  25.71  38.48 -1.77  \n",
      "1  25.77  37.47 -3.50  \n",
      "2  24.93  37.17 -5.82  \n",
      "3  20.28  37.19 -4.76  \n",
      "4  15.75  37.58 -2.74  \n",
      "\n",
      "[5 rows x 330 columns]\n"
     ]
    }
   ],
   "source": [
    "# head\n",
    "print(dataset.head(5))"
   ]
  },
  {
   "cell_type": "code",
   "execution_count": 183,
   "metadata": {
    "collapsed": false
   },
   "outputs": [
    {
     "name": "stdout",
     "output_type": "stream",
     "text": [
      "               1            2            3            4            5    \\\n",
      "count  1145.000000  1145.000000  1145.000000  1145.000000  1145.000000   \n",
      "mean     43.630653   -76.381776    43.633758   -75.787178    43.639705   \n",
      "std       0.233597     0.279259     0.348498     0.408128     0.519221   \n",
      "min      43.243790   -77.509819    42.907711   -77.060097    42.608696   \n",
      "25%      43.446945   -76.559319    43.339364   -76.035680    43.210049   \n",
      "50%      43.617672   -76.225258    43.619020   -75.743159    43.589722   \n",
      "75%      43.780396   -76.199753    43.901171   -75.471099    44.032555   \n",
      "max      44.314522   -76.050560    44.518521   -74.867294    44.987915   \n",
      "\n",
      "               6            10           11           12           13   ...  \\\n",
      "count  1145.000000  1145.000000  1145.000000  1145.000000  1145.000000  ...   \n",
      "mean    -75.142739     4.608821     4.733284    19.422943    23.082725  ...   \n",
      "std       0.670774     2.408046     6.983989    23.370011    32.730655  ...   \n",
      "min     -76.938240     1.350000     0.000000     0.000000     0.000000  ...   \n",
      "25%     -75.653412     2.820000     0.070000     0.350000     0.000000  ...   \n",
      "50%     -75.121086     3.970000     0.930000    10.440000     2.950000  ...   \n",
      "75%     -74.616837     6.140000     8.160000    33.500000    46.790000  ...   \n",
      "max     -73.680901    13.260000    24.930000    88.300000    95.120000  ...   \n",
      "\n",
      "               324          325          326          327          328  \\\n",
      "count  1145.000000  1145.000000  1145.000000  1145.000000  1145.000000   \n",
      "mean   2828.591878   -21.168114    58.476978    32.595633     5.770620   \n",
      "std      63.173232     5.053155    22.238123     9.916492    14.014891   \n",
      "min    2702.810000   -33.680000     0.750000     6.800000   -36.190000   \n",
      "25%    2778.450000   -24.800000    42.970000    25.840000    -3.620000   \n",
      "50%    2829.570000   -21.010000    64.000000    31.930000     6.420000   \n",
      "75%    2868.630000   -17.410000    77.420000    38.710000    14.770000   \n",
      "max    3006.950000    -7.810000    99.360000    68.050000    53.070000   \n",
      "\n",
      "               329          330          331          332          333  \n",
      "count  1145.000000  1145.000000  1145.000000  1145.000000  1145.000000  \n",
      "mean   5257.639668   -33.220926    35.622585    45.839057    11.509223  \n",
      "std      98.844910     4.916704    20.163118    20.474141    24.101842  \n",
      "min    5039.500000   -45.610000     1.770000   -16.110000   -60.400000  \n",
      "25%    5186.380000   -36.860000    18.790000    32.930000    -5.630000  \n",
      "50%    5262.920000   -33.240000    33.440000    44.200000    11.340000  \n",
      "75%    5328.240000   -29.260000    51.370000    59.720000    29.420000  \n",
      "max    5562.490000   -19.310000    97.640000   103.270000   100.250000  \n",
      "\n",
      "[8 rows x 330 columns]\n"
     ]
    }
   ],
   "source": [
    "# descriptions\n",
    "print(dataset.describe())"
   ]
  },
  {
   "cell_type": "code",
   "execution_count": 184,
   "metadata": {
    "collapsed": false
   },
   "outputs": [
    {
     "name": "stdout",
     "output_type": "stream",
     "text": [
      "1          2         \n",
      "43.243790  -77.509819    1\n",
      "43.248756  -77.003174    1\n",
      "43.253349  -77.061295    1\n",
      "43.254963  -77.477936    1\n",
      "43.257233  -77.469215    1\n",
      "                        ..\n",
      "44.259010  -76.164742    1\n",
      "44.267601  -76.164268    1\n",
      "44.309586  -76.296242    1\n",
      "44.310493  -76.092506    1\n",
      "44.314522  -76.264351    1\n",
      "Length: 1102, dtype: int64\n"
     ]
    }
   ],
   "source": [
    "# class distribution\n",
    "print(dataset.groupby([1, 2]).size())"
   ]
  },
  {
   "cell_type": "markdown",
   "metadata": {},
   "source": [
    "## Data Visualization"
   ]
  },
  {
   "cell_type": "code",
   "execution_count": 185,
   "metadata": {
    "collapsed": false
   },
   "outputs": [],
   "source": [
    "# box and whisker plots\n",
    "#dataset.plot(figsize=(5,20), kind='box', subplots=True, layout=(3,107), sharex=False, sharey=False)\n",
    "#pyplot.show()"
   ]
  },
  {
   "cell_type": "code",
   "execution_count": 186,
   "metadata": {
    "collapsed": false
   },
   "outputs": [],
   "source": [
    "# histograms\n",
    "#dataset.hist(figsize=(5,20))\n",
    "#pyplot.show()"
   ]
  },
  {
   "cell_type": "code",
   "execution_count": 187,
   "metadata": {
    "collapsed": false
   },
   "outputs": [],
   "source": [
    "# scatter plot matrix\n",
    "#scatter_matrix(dataset, figsize=(5,20))\n",
    "#pyplot.show()"
   ]
  },
  {
   "cell_type": "markdown",
   "metadata": {},
   "source": [
    "## Algorithms"
   ]
  },
  {
   "cell_type": "code",
   "execution_count": 188,
   "metadata": {
    "collapsed": false
   },
   "outputs": [
    {
     "name": "stdout",
     "output_type": "stream",
     "text": [
      "[[ 43.535946   -76.22332     43.35389555 -75.329963    43.234745\n",
      "  -74.595901  ]\n",
      " [ 43.532036   -76.217194    43.33464587 -75.37351127  43.143089\n",
      "  -74.490379  ]\n",
      " [ 43.521149   -76.23201     43.34632558 -75.61854384  43.195889\n",
      "  -74.990135  ]\n",
      " ...\n",
      " [ 43.553471   -76.185211    43.228888   -75.63504386  42.98103\n",
      "  -75.192307  ]\n",
      " [ 43.320927   -76.710991    43.121541   -76.32067063  42.869659\n",
      "  -75.870171  ]\n",
      " [ 43.384274   -76.656464    43.12864013 -76.4084122   42.85833\n",
      "  -75.925262  ]]\n",
      "[[13.26  0.    0.   ... 25.71 38.48 -1.77]\n",
      " [13.26  0.    0.   ... 25.77 37.47 -3.5 ]\n",
      " [13.26  0.    0.   ... 24.93 37.17 -5.82]\n",
      " ...\n",
      " [ 2.23  4.63 19.43 ... 12.6  34.36  4.09]\n",
      " [ 2.23  4.63 19.43 ... 14.08 36.31 -0.16]\n",
      " [ 2.23  4.63 19.43 ... 17.43 38.78 -4.31]]\n"
     ]
    }
   ],
   "source": [
    "# Split-out validation dataset\n",
    "array = dataset.values\n",
    "X = array[:,6:331]\n",
    "y = array[:,0:6]\n",
    "X_train, X_validation, Y_train, Y_validation = train_test_split(X, y, test_size=0.30, random_state=1)\n",
    "print(y)\n",
    "print(X)"
   ]
  },
  {
   "cell_type": "code",
   "execution_count": 189,
   "metadata": {
    "collapsed": false
   },
   "outputs": [
    {
     "name": "stdout",
     "output_type": "stream",
     "text": [
      "MultiLR: 0.538179 (0.033450)\n",
      "KNN(n=2): 0.753748 (0.031187)\n",
      "KNN(n=5): 0.683063 (0.033112)\n",
      "RandomForest: 0.668335 (0.025824)\n"
     ]
    }
   ],
   "source": [
    "# Spot Check Algorithms\n",
    "models = []\n",
    "models.append(('MultiLR', LinearRegression()))\n",
    "models.append(('KNN(n=2)', KNeighborsRegressor(n_neighbors=2)))\n",
    "models.append(('KNN(n=5)', KNeighborsRegressor(n_neighbors=5)))\n",
    "#models.append(('DecisionTree', DecisionTreeRegressor()))\n",
    "models.append(('RandomForest', RandomForestRegressor()))\n",
    "#models.append(('MLPR', MLPRegressor()))\n",
    "\n",
    "# evaluate each model in turn\n",
    "results = []\n",
    "names = []\n",
    "for name, model in models:\n",
    "    kfold = KFold(n_splits=5, random_state=1, shuffle=True)\n",
    "    cv_results = cross_val_score(model, X_train, Y_train, cv=kfold)\n",
    "    if name != 'MultiLR': # Hide MultiLR since data is skewed \n",
    "        results.append(cv_results)\n",
    "        names.append(name)\n",
    "    print('%s: %f (%f)' % (name, cv_results.mean(), cv_results.std()))"
   ]
  },
  {
   "cell_type": "code",
   "execution_count": 190,
   "metadata": {
    "collapsed": false
   },
   "outputs": [
    {
     "data": {
      "image/png": "[encoded data removed]",
      "text/plain": [
       "<Figure size 432x288 with 1 Axes>"
      ]
     },
     "metadata": {
      "needs_background": "light"
     },
     "output_type": "display_data"
    }
   ],
   "source": [
    "# Compare Algorithms\n",
    "pyplot.boxplot(results, labels=names, showfliers=False)\n",
    "pyplot.title('Algorithm Comparison (Excluding MultiLR)')\n",
    "pyplot.show()"
   ]
  },
  {
   "cell_type": "markdown",
   "metadata": {},
   "source": [
    "## Predictions and Validation"
   ]
  },
  {
   "cell_type": "code",
   "execution_count": 191,
   "metadata": {
    "collapsed": false,
    "scrolled": false
   },
   "outputs": [
    {
     "name": "stdout",
     "output_type": "stream",
     "text": [
      "==================== MultiLR ====================\n"
     ]
    },
    {
     "data": {
      "image/png": "[encoded data removed]",
      "text/plain": [
       "<Figure size 432x288 with 1 Axes>"
      ]
     },
     "metadata": {
      "needs_background": "light"
     },
     "output_type": "display_data"
    },
    {
     "name": "stdout",
     "output_type": "stream",
     "text": [
      "Metric\t\t\tCurr Score\t\tPrev Score\n",
      "----------\t\t---------\t\t--------\n",
      "mean_absolute_error\t0.19674183511643076\t0.19674183511643076\n",
      "mean_squared_error\t0.07226333649208268\t0.07226333649208268\n",
      "r2_score\t\t0.6142502578717733\t0.6142502578717733\n",
      "\n",
      "\n",
      "==================== KNN(n=2) ====================\n"
     ]
    },
    {
     "data": {
      "image/png": "[encoded data removed]",
      "text/plain": [
       "<Figure size 432x288 with 1 Axes>"
      ]
     },
     "metadata": {
      "needs_background": "light"
     },
     "output_type": "display_data"
    },
    {
     "name": "stdout",
     "output_type": "stream",
     "text": [
      "Metric\t\t\tCurr Score\t\tPrev Score\n",
      "----------\t\t---------\t\t--------\n",
      "mean_absolute_error\t0.11957846633492807\t0.11957846633492807\n",
      "mean_squared_error\t0.03526601556502983\t0.03526601556502983\n",
      "r2_score\t\t0.8133520532762613\t0.8133520532762613\n",
      "\n",
      "\n",
      "==================== KNN(n=5) ====================\n"
     ]
    },
    {
     "data": {
      "image/png": "[encoded data removed]",
      "text/plain": [
       "<Figure size 432x288 with 1 Axes>"
      ]
     },
     "metadata": {
      "needs_background": "light"
     },
     "output_type": "display_data"
    },
    {
     "name": "stdout",
     "output_type": "stream",
     "text": [
      "Metric\t\t\tCurr Score\t\tPrev Score\n",
      "----------\t\t---------\t\t--------\n",
      "mean_absolute_error\t0.14330295665249207\t0.14330295665249207\n",
      "mean_squared_error\t0.044604896435748366\t0.044604896435748366\n",
      "r2_score\t\t0.7642362257166654\t0.7642362257166654\n",
      "\n",
      "\n",
      "==================== RandomForest ====================\n"
     ]
    },
    {
     "data": {
      "image/png": "[encoded data removed]",
      "text/plain": [
       "<Figure size 432x288 with 1 Axes>"
      ]
     },
     "metadata": {
      "needs_background": "light"
     },
     "output_type": "display_data"
    },
    {
     "name": "stdout",
     "output_type": "stream",
     "text": [
      "Metric\t\t\tCurr Score\t\tPrev Score\n",
      "----------\t\t---------\t\t--------\n",
      "mean_absolute_error\t0.16452826559497782\t0.16827641569109317\n",
      "mean_squared_error\t0.0565626303784906\t0.05847055106167368\n",
      "r2_score\t\t0.7189375774195312\t0.7149617392300929\n",
      "Saving model...\n",
      "\n",
      "\n"
     ]
    }
   ],
   "source": [
    "for name, model in models:\n",
    "    print(f'==================== {name} ====================') \n",
    "    \n",
    "    # Make predictions on validation dataset\n",
    "    model.fit(X_train, Y_train)\n",
    "    predictions = model.predict(X_validation)\n",
    "    \n",
    "    # Evaluate current model\n",
    "    #currMaxError=max_error(Y_validation, predictions)\n",
    "    currAbsError=mean_absolute_error(Y_validation, predictions)\n",
    "    currMeanSqrError=mean_squared_error(Y_validation, predictions)\n",
    "    currR2score=r2_score(Y_validation, predictions)\n",
    "    \n",
    "    # Abs values\n",
    "    x_abs=[]\n",
    "    y_abs=[]\n",
    "    for i in range(len(Y_validation)):\n",
    "        y_abs.append(abs(Y_validation[i]))\n",
    "        x_abs.append(abs(predictions[i]))\n",
    "    \n",
    "    pyplot.plot(x_abs, x_abs, color='black')\n",
    "    pyplot.scatter(x_abs, y_abs, marker='o', color='lightseagreen');\n",
    "    pyplot.title(f'{model}')\n",
    "    pyplot.xlabel(\"validation\")\n",
    "    pyplot.ylabel(\"prediction\")\n",
    "    pyplot.show()    \n",
    "\n",
    "    # Load previous model and make predictions on validation dataset\n",
    "    previousModel=joblib.load(f'../models/LES_Band_Position_Model_{name}_Full_LatLon')  \n",
    "    previousModel.fit(X_train, Y_train)\n",
    "    prevPredictions=previousModel.predict(X_validation)\n",
    "    \n",
    "    # Evaluate previous model\n",
    "    #prevMaxError=max_error(Y_validation, prevPredictions)\n",
    "    prevAbsError=mean_absolute_error(Y_validation, prevPredictions)\n",
    "    prevMeanSqrError=mean_squared_error(Y_validation, prevPredictions)\n",
    "    prevR2score=r2_score(Y_validation, prevPredictions)\n",
    "    \n",
    "    print('Metric\\t\\t\\tCurr Score\\t\\tPrev Score')\n",
    "    print('----------\\t\\t---------\\t\\t--------')\n",
    "    #print(f'max_error\\t\\t{currMaxError}\\t{prevMaxError}')\n",
    "    print(f'mean_absolute_error\\t{currAbsError}\\t{prevAbsError}')\n",
    "    print(f'mean_squared_error\\t{currMeanSqrError}\\t{prevMeanSqrError}')\n",
    "    print(f'r2_score\\t\\t{currR2score}\\t{prevR2score}')\n",
    "    \n",
    "    # Save model if r^2 better\n",
    "    if currR2score > prevR2score:\n",
    "        print('Saving model...')\n",
    "        joblib.dump(model, f'../models/LES_Band_Position_Model_{name}_Full_LatLon') \n",
    "    print('\\n')"
   ]
  },
  {
   "cell_type": "code",
   "execution_count": 192,
   "metadata": {
    "collapsed": false
   },
   "outputs": [
    {
     "data": {
      "image/png": "[encoded data removed]",
      "text/plain": [
       "<Figure size 432x288 with 1 Axes>"
      ]
     },
     "metadata": {
      "needs_background": "light"
     },
     "output_type": "display_data"
    }
   ],
   "source": [
    "pyplot.title(f'Algorithm Coefficient of Determination')\n",
    "pyplot.ylabel(\"R2 Score\")  \n",
    "langs = ['MultiLR ', 'KNN(n=2)', 'KNN(n=5)', 'RandomForest',]\n",
    "students = [0.6142502578717733, 0.8133520532762613, 0.7642362257166654, 0.7189375774195312]\n",
    "pyplot.bar(langs,students)\n",
    "pyplot.ylim(0.0, 1.0)\n",
    "pyplot.show()"
   ]
  }
 ],
 "metadata": {
  "kernelspec": {
   "display_name": "Environment (virtualenv_research)",
   "language": "python",
   "name": "virtualenv_research"
  },
  "language_info": {
   "codemirror_mode": {
    "name": "ipython",
    "version": 3
   },
   "file_extension": ".py",
   "mimetype": "text/x-python",
   "name": "python",
   "nbconvert_exporter": "python",
   "pygments_lexer": "ipython3",
   "version": "3.7.5"
  }
 },
 "nbformat": 4,
 "nbformat_minor": 0
}
